{
 "cells": [
  {
   "cell_type": "code",
   "execution_count": 1,
   "metadata": {
    "collapsed": true
   },
   "outputs": [],
   "source": [
    "import h5py\n",
    "import os\n",
    "import periodictable"
   ]
  },
  {
   "cell_type": "code",
   "execution_count": 9,
   "metadata": {
    "collapsed": false
   },
   "outputs": [],
   "source": [
    "A_to_elementsymbol = {}\n",
    "for el in periodictable.elements:\n",
    "    A_to_elementsymbol[el.number] = el.symbol"
   ]
  },
  {
   "cell_type": "code",
   "execution_count": 19,
   "metadata": {
    "collapsed": false
   },
   "outputs": [],
   "source": [
    "def write_xyz(snapshot, path):\n",
    "    \n",
    "    atomic_number = snapshot['Z'].value\n",
    "    coordinates = snapshot['r'].value*1e10\n",
    "    atomic_state = snapshot['xyz'].value\n",
    "    \n",
    "    symbol = [ A_to_elementsymbol[an] for an in atomic_number]\n",
    "    \n",
    "    xyz_filename = os.path.join(path, os.path.split(snapshot.name)[-1]+'.xyz')\n",
    "    print(\"Saving to \"+xyz_filename)\n",
    "    with open(xyz_filename,'w') as  xyzfile:\n",
    "        \n",
    "        xyzfile.write(str(atomic_number.shape[0])+\"\\n\")\n",
    "        xyzfile.write(\"XMDYN output snapshot \"+os.path.split(xyz_filename)[-1].split('.')[0]+\"\\n\")\n",
    "        for i,an in enumerate(atomic_number):\n",
    "            xyzfile.write(\"{0:s}\\t{1:e}\\t{2:e}\\t{3:e}\\t{4:f}\\n\".format(symbol[i],\n",
    "                                                             coordinates[i,0],\n",
    "                                                             coordinates[i,1],\n",
    "                                                             coordinates[i,2],\n",
    "                                                             atomic_state[i],\n",
    "                                                            )\n",
    "                 )\n",
    "        #print(\"{0:s}\\t{1:e}\".format(symbol[i], coordinates[i,0]))\n",
    "    \n",
    "    "
   ]
  },
  {
   "cell_type": "code",
   "execution_count": null,
   "metadata": {
    "collapsed": true
   },
   "outputs": [],
   "source": []
  },
  {
   "cell_type": "code",
   "execution_count": 2,
   "metadata": {
    "collapsed": true
   },
   "outputs": [],
   "source": [
    "pmi_dir = 'pmi'"
   ]
  },
  {
   "cell_type": "code",
   "execution_count": 3,
   "metadata": {
    "collapsed": false
   },
   "outputs": [],
   "source": [
    "# load a trajectory\n",
    "h5 = h5py.File(os.path.join(pmi_dir, 'pmi_out_0001000.h5'))\n",
    "    "
   ]
  },
  {
   "cell_type": "code",
   "execution_count": 4,
   "metadata": {
    "collapsed": false,
    "scrolled": true
   },
   "outputs": [
    {
     "name": "stdout",
     "output_type": "stream",
     "text": [
      "Nph <HDF5 dataset \"Nph\": shape (1,), type \"<f8\">\n",
      "Sq_bound <HDF5 dataset \"Sq_bound\": shape (37,), type \"<f4\">\n",
      "Sq_free <HDF5 dataset \"Sq_free\": shape (37,), type \"<f4\">\n",
      "Sq_halfQ <HDF5 dataset \"Sq_halfQ\": shape (37,), type \"<f4\">\n",
      "T <HDF5 dataset \"T\": shape (13,), type \"<i4\">\n",
      "Z <HDF5 dataset \"Z\": shape (9886,), type \"<i4\">\n",
      "ff <HDF5 dataset \"ff\": shape (13, 101), type \"<f4\">\n",
      "halfQ <HDF5 dataset \"halfQ\": shape (101,), type \"<f4\">\n",
      "r <HDF5 dataset \"r\": shape (9886, 3), type \"<f8\">\n",
      "xyz <HDF5 dataset \"xyz\": shape (9886,), type \"<i4\">\n"
     ]
    }
   ],
   "source": [
    "h5['data/snp_0000001'].visititems(print)"
   ]
  },
  {
   "cell_type": "code",
   "execution_count": 21,
   "metadata": {
    "collapsed": false
   },
   "outputs": [
    {
     "name": "stdout",
     "output_type": "stream",
     "text": [
      "Saving to xyz/snp_0000001.xyz\n",
      "Saving to xyz/snp_0000002.xyz\n",
      "Saving to xyz/snp_0000003.xyz\n",
      "Saving to xyz/snp_0000004.xyz\n",
      "Saving to xyz/snp_0000005.xyz\n",
      "Saving to xyz/snp_0000006.xyz\n",
      "Saving to xyz/snp_0000007.xyz\n",
      "Saving to xyz/snp_0000008.xyz\n",
      "Saving to xyz/snp_0000009.xyz\n",
      "Saving to xyz/snp_0000010.xyz\n",
      "Saving to xyz/snp_0000011.xyz\n",
      "Saving to xyz/snp_0000012.xyz\n",
      "Saving to xyz/snp_0000013.xyz\n",
      "Saving to xyz/snp_0000014.xyz\n",
      "Saving to xyz/snp_0000015.xyz\n",
      "Saving to xyz/snp_0000016.xyz\n",
      "Saving to xyz/snp_0000017.xyz\n",
      "Saving to xyz/snp_0000018.xyz\n",
      "Saving to xyz/snp_0000019.xyz\n",
      "Saving to xyz/snp_0000020.xyz\n",
      "Saving to xyz/snp_0000021.xyz\n",
      "Saving to xyz/snp_0000022.xyz\n",
      "Saving to xyz/snp_0000023.xyz\n",
      "Saving to xyz/snp_0000024.xyz\n",
      "Saving to xyz/snp_0000025.xyz\n",
      "Saving to xyz/snp_0000026.xyz\n",
      "Saving to xyz/snp_0000027.xyz\n",
      "Saving to xyz/snp_0000028.xyz\n",
      "Saving to xyz/snp_0000029.xyz\n",
      "Saving to xyz/snp_0000030.xyz\n",
      "Saving to xyz/snp_0000031.xyz\n",
      "Saving to xyz/snp_0000032.xyz\n",
      "Saving to xyz/snp_0000033.xyz\n",
      "Saving to xyz/snp_0000034.xyz\n",
      "Saving to xyz/snp_0000035.xyz\n",
      "Saving to xyz/snp_0000036.xyz\n",
      "Saving to xyz/snp_0000037.xyz\n",
      "Saving to xyz/snp_0000038.xyz\n",
      "Saving to xyz/snp_0000039.xyz\n",
      "Saving to xyz/snp_0000040.xyz\n",
      "Saving to xyz/snp_0000041.xyz\n",
      "Saving to xyz/snp_0000042.xyz\n",
      "Saving to xyz/snp_0000043.xyz\n",
      "Saving to xyz/snp_0000044.xyz\n",
      "Saving to xyz/snp_0000045.xyz\n",
      "Saving to xyz/snp_0000046.xyz\n",
      "Saving to xyz/snp_0000047.xyz\n",
      "Saving to xyz/snp_0000048.xyz\n",
      "Saving to xyz/snp_0000049.xyz\n",
      "Saving to xyz/snp_0000050.xyz\n",
      "Saving to xyz/snp_0000051.xyz\n",
      "Saving to xyz/snp_0000052.xyz\n",
      "Saving to xyz/snp_0000053.xyz\n",
      "Saving to xyz/snp_0000054.xyz\n",
      "Saving to xyz/snp_0000055.xyz\n",
      "Saving to xyz/snp_0000056.xyz\n",
      "Saving to xyz/snp_0000057.xyz\n",
      "Saving to xyz/snp_0000058.xyz\n",
      "Saving to xyz/snp_0000059.xyz\n",
      "Saving to xyz/snp_0000060.xyz\n",
      "Saving to xyz/snp_0000061.xyz\n",
      "Saving to xyz/snp_0000062.xyz\n",
      "Saving to xyz/snp_0000063.xyz\n",
      "Saving to xyz/snp_0000064.xyz\n",
      "Saving to xyz/snp_0000065.xyz\n",
      "Saving to xyz/snp_0000066.xyz\n",
      "Saving to xyz/snp_0000067.xyz\n",
      "Saving to xyz/snp_0000068.xyz\n",
      "Saving to xyz/snp_0000069.xyz\n",
      "Saving to xyz/snp_0000070.xyz\n",
      "Saving to xyz/snp_0000071.xyz\n",
      "Saving to xyz/snp_0000072.xyz\n",
      "Saving to xyz/snp_0000073.xyz\n",
      "Saving to xyz/snp_0000074.xyz\n",
      "Saving to xyz/snp_0000075.xyz\n",
      "Saving to xyz/snp_0000076.xyz\n",
      "Saving to xyz/snp_0000077.xyz\n",
      "Saving to xyz/snp_0000078.xyz\n",
      "Saving to xyz/snp_0000079.xyz\n",
      "Saving to xyz/snp_0000080.xyz\n",
      "Saving to xyz/snp_0000081.xyz\n",
      "Saving to xyz/snp_0000082.xyz\n",
      "Saving to xyz/snp_0000083.xyz\n",
      "Saving to xyz/snp_0000084.xyz\n",
      "Saving to xyz/snp_0000085.xyz\n",
      "Saving to xyz/snp_0000086.xyz\n",
      "Saving to xyz/snp_0000087.xyz\n",
      "Saving to xyz/snp_0000088.xyz\n",
      "Saving to xyz/snp_0000089.xyz\n",
      "Saving to xyz/snp_0000090.xyz\n",
      "Saving to xyz/snp_0000091.xyz\n",
      "Saving to xyz/snp_0000092.xyz\n",
      "Saving to xyz/snp_0000093.xyz\n",
      "Saving to xyz/snp_0000094.xyz\n",
      "Saving to xyz/snp_0000095.xyz\n",
      "Saving to xyz/snp_0000096.xyz\n",
      "Saving to xyz/snp_0000097.xyz\n",
      "Saving to xyz/snp_0000098.xyz\n",
      "Saving to xyz/snp_0000099.xyz\n",
      "Saving to xyz/snp_0000100.xyz\n",
      "Saving to xyz/snp_0000101.xyz\n"
     ]
    }
   ],
   "source": [
    "for snp in ['snp_{0:07d}'.format(idx) for idx in range(1,102)]:\n",
    "    snapshot = h5['data/'+snp]\n",
    "    write_xyz(snapshot, path='xyz')\n",
    "    \n",
    "    "
   ]
  },
  {
   "cell_type": "code",
   "execution_count": 48,
   "metadata": {
    "collapsed": false
   },
   "outputs": [
    {
     "name": "stdout",
     "output_type": "stream",
     "text": [
      "mkdir: cannot create directory ‘xyz’: File exists\r\n"
     ]
    }
   ],
   "source": [
    "!mkdir xyz"
   ]
  },
  {
   "cell_type": "code",
   "execution_count": 20,
   "metadata": {
    "collapsed": false
   },
   "outputs": [
    {
     "name": "stdout",
     "output_type": "stream",
     "text": [
      "Saving to xyz/snp_0000001.xyz\n"
     ]
    }
   ],
   "source": [
    "write_xyz(h5['data/snp_0000001'],path='xyz')"
   ]
  },
  {
   "cell_type": "code",
   "execution_count": null,
   "metadata": {
    "collapsed": true
   },
   "outputs": [],
   "source": []
  }
 ],
 "metadata": {
  "kernelspec": {
   "display_name": "Python 3",
   "language": "python",
   "name": "python3"
  },
  "language_info": {
   "codemirror_mode": {
    "name": "ipython",
    "version": 3
   },
   "file_extension": ".py",
   "mimetype": "text/x-python",
   "name": "python",
   "nbconvert_exporter": "python",
   "pygments_lexer": "ipython3",
   "version": "3.4.8"
  }
 },
 "nbformat": 4,
 "nbformat_minor": 2
}
